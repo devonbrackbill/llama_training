{
 "cells": [
  {
   "cell_type": "markdown",
   "id": "436ee992-e80c-46fe-a085-a0717eb1aace",
   "metadata": {},
   "source": [
    "# Finetune 70B Llama Model"
   ]
  },
  {
   "cell_type": "code",
   "execution_count": 1,
   "id": "fc2e926b-3529-4fd3-a876-50738f47aff2",
   "metadata": {
    "tags": []
   },
   "outputs": [
    {
     "name": "stdout",
     "output_type": "stream",
     "text": [
      "\n",
      "\u001b[1m[\u001b[0m\u001b[34;49mnotice\u001b[0m\u001b[1;39;49m]\u001b[0m\u001b[39;49m A new release of pip available: \u001b[0m\u001b[31;49m22.3\u001b[0m\u001b[39;49m -> \u001b[0m\u001b[32;49m23.2.1\u001b[0m\n",
      "\u001b[1m[\u001b[0m\u001b[34;49mnotice\u001b[0m\u001b[1;39;49m]\u001b[0m\u001b[39;49m To update, run: \u001b[0m\u001b[32;49mpython3 -m pip install --upgrade pip\u001b[0m\n"
     ]
    }
   ],
   "source": [
    "!pip install -q accelerate==0.21.0 peft==0.4.0 bitsandbytes==0.40.2 transformers==4.31.0 trl==0.4.7 datasets"
   ]
  },
  {
   "cell_type": "code",
   "execution_count": 2,
   "id": "29633911-dbea-47a0-b99b-626bf117a932",
   "metadata": {
    "tags": []
   },
   "outputs": [
    {
     "name": "stdout",
     "output_type": "stream",
     "text": [
      "\n",
      "\u001b[1m[\u001b[0m\u001b[34;49mnotice\u001b[0m\u001b[1;39;49m]\u001b[0m\u001b[39;49m A new release of pip available: \u001b[0m\u001b[31;49m22.3\u001b[0m\u001b[39;49m -> \u001b[0m\u001b[32;49m23.2.1\u001b[0m\n",
      "\u001b[1m[\u001b[0m\u001b[34;49mnotice\u001b[0m\u001b[1;39;49m]\u001b[0m\u001b[39;49m To update, run: \u001b[0m\u001b[32;49mpython3 -m pip install --upgrade pip\u001b[0m\n"
     ]
    }
   ],
   "source": [
    "!pip install huggingface_hub -q"
   ]
  },
  {
   "cell_type": "code",
   "execution_count": 3,
   "id": "72140e8b-7b99-498c-80ca-c84c25242af7",
   "metadata": {
    "tags": []
   },
   "outputs": [],
   "source": [
    "from huggingface_hub import notebook_login, logout, login, get_token_permission\n",
    "# logout()"
   ]
  },
  {
   "cell_type": "code",
   "execution_count": 4,
   "id": "9e37ecd8-39de-48be-bc2d-92149f4770e9",
   "metadata": {},
   "outputs": [
    {
     "data": {
      "application/vnd.jupyter.widget-view+json": {
       "model_id": "24c02f0e9f774993beef882c55fe2f8b",
       "version_major": 2,
       "version_minor": 0
      },
      "text/plain": [
       "VBox(children=(HTML(value='<center> <img\\nsrc=https://huggingface.co/front/assets/huggingface_logo-noborder.sv…"
      ]
     },
     "metadata": {},
     "output_type": "display_data"
    }
   ],
   "source": [
    "notebook_login()"
   ]
  },
  {
   "cell_type": "code",
   "execution_count": 93,
   "id": "667c94d3-85c2-4465-a600-ed095f0d92e5",
   "metadata": {
    "tags": []
   },
   "outputs": [],
   "source": [
    "import pandas as pd\n",
    "import os\n",
    "import torch\n",
    "from datasets import load_dataset\n",
    "from transformers import (\n",
    "    AutoModelForCausalLM,\n",
    "    AutoTokenizer,\n",
    "    BitsAndBytesConfig,\n",
    "    HfArgumentParser,\n",
    "    TrainingArguments,\n",
    "    pipeline,\n",
    "    logging,\n",
    ")\n",
    "from peft import LoraConfig, PeftModel\n",
    "from trl import SFTTrainer"
   ]
  },
  {
   "cell_type": "code",
   "execution_count": 6,
   "id": "58bbd868-da2f-4790-a6e0-0282b2caa36b",
   "metadata": {
    "tags": []
   },
   "outputs": [],
   "source": [
    "# The model that you want to train from the Hugging Face hub\n",
    "model_name = \"NousResearch/Llama-2-7b-chat-hf\"\n",
    "model_name = 'meta-llama/Llama-2-7b-chat-hf'\n",
    "model_name = 'meta-llama/Llama-2-70b-chat-hf'\n",
    "\n",
    "# # The instruction dataset to use\n",
    "# dataset_name = \"mlabonne/guanaco-llama2-1k\"\n",
    "\n",
    "# # Fine-tuned model name\n",
    "# new_model = \"llama-2-7b-miniguanaco\"\n"
   ]
  },
  {
   "cell_type": "code",
   "execution_count": 7,
   "id": "a4689852-0f81-4803-bcfe-924759c308b9",
   "metadata": {
    "tags": []
   },
   "outputs": [],
   "source": [
    "\n",
    "################################################################################\n",
    "# QLoRA parameters\n",
    "################################################################################\n",
    "\n",
    "# LoRA attention dimension\n",
    "lora_r = 64\n",
    "\n",
    "# Alpha parameter for LoRA scaling\n",
    "lora_alpha = 16\n",
    "\n",
    "# Dropout probability for LoRA layers\n",
    "lora_dropout = 0.1\n",
    "\n",
    "################################################################################\n",
    "# bitsandbytes parameters\n",
    "################################################################################\n",
    "\n",
    "# Activate 4-bit precision base model loading\n",
    "use_4bit = True\n",
    "\n",
    "# Compute dtype for 4-bit base models\n",
    "bnb_4bit_compute_dtype = \"float16\"\n",
    "\n",
    "# Quantization type (fp4 or nf4)\n",
    "bnb_4bit_quant_type = \"nf4\"\n",
    "\n",
    "# Activate nested quantization for 4-bit base models (double quantization)\n",
    "use_nested_quant = False\n",
    "\n",
    "################################################################################\n",
    "# TrainingArguments parameters\n",
    "################################################################################\n",
    "\n",
    "# Output directory where the model predictions and checkpoints will be stored\n",
    "output_dir = \"./results\"\n",
    "\n",
    "# Number of training epochs\n",
    "num_train_epochs = 2\n",
    "\n",
    "# Enable fp16/bf16 training (set bf16 to True with an A100)\n",
    "fp16 = False\n",
    "bf16 = False\n",
    "\n",
    "# Batch size per GPU for training\n",
    "per_device_train_batch_size = 4\n",
    "\n",
    "# Batch size per GPU for evaluation\n",
    "per_device_eval_batch_size = 4\n",
    "\n",
    "# Number of update steps to accumulate the gradients for\n",
    "gradient_accumulation_steps = 1\n",
    "\n",
    "# Enable gradient checkpointing\n",
    "gradient_checkpointing = True\n",
    "\n",
    "# Maximum gradient normal (gradient clipping)\n",
    "max_grad_norm = 0.3\n",
    "\n",
    "# Initial learning rate (AdamW optimizer)\n",
    "learning_rate = 2e-4\n",
    "\n",
    "# Weight decay to apply to all layers except bias/LayerNorm weights\n",
    "weight_decay = 0.001\n",
    "\n",
    "# Optimizer to use\n",
    "optim = \"paged_adamw_32bit\"\n",
    "\n",
    "# Learning rate schedule\n",
    "lr_scheduler_type = \"cosine\"\n",
    "\n",
    "# Number of training steps (overrides num_train_epochs)\n",
    "max_steps = -1\n",
    "\n",
    "# Ratio of steps for a linear warmup (from 0 to learning rate)\n",
    "warmup_ratio = 0.03\n",
    "\n",
    "# Group sequences into batches with same length\n",
    "# Saves memory and speeds up training considerably\n",
    "group_by_length = True\n",
    "\n",
    "# Save checkpoint every X updates steps\n",
    "save_steps = 0\n",
    "\n",
    "# Log every X updates steps\n",
    "logging_steps = 25\n",
    "\n",
    "################################################################################\n",
    "# SFT parameters\n",
    "################################################################################\n",
    "\n",
    "# Maximum sequence length to use\n",
    "max_seq_length = None\n",
    "\n",
    "# Pack multiple short examples in the same input sequence to increase efficiency\n",
    "packing = False\n",
    "\n",
    "# Load the entire model on the GPU 0\n",
    "device_map = {\"\": 0}"
   ]
  },
  {
   "cell_type": "code",
   "execution_count": 8,
   "id": "c95b79e6-c847-4f66-a6d9-6b3b231a49fa",
   "metadata": {
    "tags": []
   },
   "outputs": [
    {
     "name": "stdout",
     "output_type": "stream",
     "text": [
      "torch.float16\n"
     ]
    }
   ],
   "source": [
    "# Load tokenizer and model with QLoRA configuration\n",
    "compute_dtype = getattr(torch, bnb_4bit_compute_dtype)\n",
    "print(compute_dtype)\n",
    "\n",
    "bnb_config = BitsAndBytesConfig(\n",
    "    load_in_4bit=use_4bit,\n",
    "    bnb_4bit_quant_type=bnb_4bit_quant_type,\n",
    "    bnb_4bit_compute_dtype=compute_dtype,\n",
    "    bnb_4bit_use_double_quant=use_nested_quant,\n",
    ")"
   ]
  },
  {
   "cell_type": "code",
   "execution_count": 9,
   "id": "5f15b2e0-222e-4aac-9a43-f6148fe7be5a",
   "metadata": {
    "tags": []
   },
   "outputs": [
    {
     "name": "stdout",
     "output_type": "stream",
     "text": [
      "================================================================================\n",
      "Your GPU supports bfloat16: accelerate training with bf16=True\n",
      "================================================================================\n"
     ]
    }
   ],
   "source": [
    "# Check GPU compatibility with bfloat16\n",
    "if compute_dtype == torch.float16 and use_4bit:\n",
    "    major, _ = torch.cuda.get_device_capability()\n",
    "    if major >= 8:\n",
    "        print(\"=\" * 80)\n",
    "        print(\"Your GPU supports bfloat16: accelerate training with bf16=True\")\n",
    "        print(\"=\" * 80)"
   ]
  },
  {
   "cell_type": "code",
   "execution_count": 10,
   "id": "86b01145-d636-4eac-bb4e-dff6f5d6c23e",
   "metadata": {
    "tags": []
   },
   "outputs": [
    {
     "data": {
      "application/vnd.jupyter.widget-view+json": {
       "model_id": "9bd6da8e9db349b498f56fdd6560fa5c",
       "version_major": 2,
       "version_minor": 0
      },
      "text/plain": [
       "Downloading (…)lve/main/config.json:   0%|          | 0.00/614 [00:00<?, ?B/s]"
      ]
     },
     "metadata": {},
     "output_type": "display_data"
    },
    {
     "data": {
      "application/vnd.jupyter.widget-view+json": {
       "model_id": "7d4af2b168114fb7b46a7d2100a0c6ce",
       "version_major": 2,
       "version_minor": 0
      },
      "text/plain": [
       "Downloading (…)fetensors.index.json:   0%|          | 0.00/26.8k [00:00<?, ?B/s]"
      ]
     },
     "metadata": {},
     "output_type": "display_data"
    },
    {
     "data": {
      "application/vnd.jupyter.widget-view+json": {
       "model_id": "09d70b04c7224aa9aaf9e6c49e5aeb99",
       "version_major": 2,
       "version_minor": 0
      },
      "text/plain": [
       "Downloading shards:   0%|          | 0/2 [00:00<?, ?it/s]"
      ]
     },
     "metadata": {},
     "output_type": "display_data"
    },
    {
     "data": {
      "application/vnd.jupyter.widget-view+json": {
       "model_id": "c92492fe9f2d4e69bd7a95a2d4a92e4a",
       "version_major": 2,
       "version_minor": 0
      },
      "text/plain": [
       "Downloading (…)of-00002.safetensors:   0%|          | 0.00/9.98G [00:00<?, ?B/s]"
      ]
     },
     "metadata": {},
     "output_type": "display_data"
    },
    {
     "data": {
      "application/vnd.jupyter.widget-view+json": {
       "model_id": "50c36c1fc43442b69263ace23cb8e63b",
       "version_major": 2,
       "version_minor": 0
      },
      "text/plain": [
       "Downloading (…)of-00002.safetensors:   0%|          | 0.00/3.50G [00:00<?, ?B/s]"
      ]
     },
     "metadata": {},
     "output_type": "display_data"
    },
    {
     "data": {
      "application/vnd.jupyter.widget-view+json": {
       "model_id": "239cbd9cada842ca94224a4258c0487e",
       "version_major": 2,
       "version_minor": 0
      },
      "text/plain": [
       "Loading checkpoint shards:   0%|          | 0/2 [00:00<?, ?it/s]"
      ]
     },
     "metadata": {},
     "output_type": "display_data"
    },
    {
     "data": {
      "application/vnd.jupyter.widget-view+json": {
       "model_id": "89f8cf197a75438ba12f7f18260cc1dc",
       "version_major": 2,
       "version_minor": 0
      },
      "text/plain": [
       "Downloading (…)neration_config.json:   0%|          | 0.00/188 [00:00<?, ?B/s]"
      ]
     },
     "metadata": {},
     "output_type": "display_data"
    }
   ],
   "source": [
    "# Load base model\n",
    "model = AutoModelForCausalLM.from_pretrained(\n",
    "    model_name,\n",
    "    quantization_config=bnb_config,\n",
    "    device_map=device_map\n",
    ")\n",
    "model.config.use_cache = False\n",
    "model.config.pretraining_tp = 1"
   ]
  },
  {
   "cell_type": "code",
   "execution_count": 11,
   "id": "5c83f110-62ba-44c3-be80-92f33f235385",
   "metadata": {
    "tags": []
   },
   "outputs": [
    {
     "data": {
      "application/vnd.jupyter.widget-view+json": {
       "model_id": "26461f5d669c4df9a305d6465b200c01",
       "version_major": 2,
       "version_minor": 0
      },
      "text/plain": [
       "Downloading (…)okenizer_config.json:   0%|          | 0.00/776 [00:00<?, ?B/s]"
      ]
     },
     "metadata": {},
     "output_type": "display_data"
    },
    {
     "data": {
      "application/vnd.jupyter.widget-view+json": {
       "model_id": "e2d7109a82304af5b1223213759e4a1d",
       "version_major": 2,
       "version_minor": 0
      },
      "text/plain": [
       "Downloading tokenizer.model:   0%|          | 0.00/500k [00:00<?, ?B/s]"
      ]
     },
     "metadata": {},
     "output_type": "display_data"
    },
    {
     "data": {
      "application/vnd.jupyter.widget-view+json": {
       "model_id": "0a3aa28b51d94c3d8c7a07a112bc2756",
       "version_major": 2,
       "version_minor": 0
      },
      "text/plain": [
       "Downloading (…)/main/tokenizer.json:   0%|          | 0.00/1.84M [00:00<?, ?B/s]"
      ]
     },
     "metadata": {},
     "output_type": "display_data"
    },
    {
     "data": {
      "application/vnd.jupyter.widget-view+json": {
       "model_id": "775e1b28cf314ebcb48c1bec6bcbb202",
       "version_major": 2,
       "version_minor": 0
      },
      "text/plain": [
       "Downloading (…)cial_tokens_map.json:   0%|          | 0.00/414 [00:00<?, ?B/s]"
      ]
     },
     "metadata": {},
     "output_type": "display_data"
    }
   ],
   "source": [
    "# Load LLaMA tokenizer\n",
    "tokenizer = AutoTokenizer.from_pretrained(model_name, trust_remote_code=True)\n",
    "tokenizer.pad_token = tokenizer.eos_token\n",
    "tokenizer.padding_side = \"right\" # Fix weird overflow issue with fp16 training"
   ]
  },
  {
   "cell_type": "code",
   "execution_count": 12,
   "id": "03f7f323-352a-41cd-b6d8-a6668e4a6f21",
   "metadata": {
    "tags": []
   },
   "outputs": [],
   "source": [
    "# Load LoRA configuration\n",
    "peft_config = LoraConfig(\n",
    "    lora_alpha=lora_alpha,\n",
    "    lora_dropout=lora_dropout,\n",
    "    r=lora_r,\n",
    "    bias=\"none\",\n",
    "    task_type=\"CAUSAL_LM\",\n",
    ")"
   ]
  },
  {
   "cell_type": "code",
   "execution_count": 13,
   "id": "ab78991b-58cd-48cd-b6fe-4edda9f748af",
   "metadata": {
    "tags": []
   },
   "outputs": [],
   "source": [
    "# Set training parameters\n",
    "training_arguments = TrainingArguments(\n",
    "    output_dir=output_dir,\n",
    "    num_train_epochs=num_train_epochs,\n",
    "    per_device_train_batch_size=per_device_train_batch_size,\n",
    "    gradient_accumulation_steps=gradient_accumulation_steps,\n",
    "    optim=optim,\n",
    "    save_steps=save_steps,\n",
    "    logging_steps=logging_steps,\n",
    "    learning_rate=learning_rate,\n",
    "    weight_decay=weight_decay,\n",
    "    fp16=fp16,\n",
    "    bf16=bf16,\n",
    "    max_grad_norm=max_grad_norm,\n",
    "    max_steps=max_steps,\n",
    "    warmup_ratio=warmup_ratio,\n",
    "    group_by_length=group_by_length,\n",
    "    lr_scheduler_type=lr_scheduler_type,\n",
    "    report_to=\"tensorboard\"\n",
    ")"
   ]
  },
  {
   "cell_type": "markdown",
   "id": "dd3145e7-40a8-4c36-abdb-40377033e01d",
   "metadata": {},
   "source": [
    "# Load Dataset"
   ]
  },
  {
   "cell_type": "code",
   "execution_count": 16,
   "id": "eeb5ddd0-b1c9-432e-8184-5842e3a8848f",
   "metadata": {},
   "outputs": [
    {
     "name": "stdout",
     "output_type": "stream",
     "text": [
      "\n",
      "\u001b[1m[\u001b[0m\u001b[34;49mnotice\u001b[0m\u001b[1;39;49m]\u001b[0m\u001b[39;49m A new release of pip available: \u001b[0m\u001b[31;49m22.3\u001b[0m\u001b[39;49m -> \u001b[0m\u001b[32;49m23.2.1\u001b[0m\n",
      "\u001b[1m[\u001b[0m\u001b[34;49mnotice\u001b[0m\u001b[1;39;49m]\u001b[0m\u001b[39;49m To update, run: \u001b[0m\u001b[32;49mpython3 -m pip install --upgrade pip\u001b[0m\n"
     ]
    }
   ],
   "source": [
    "!pip install datasets -q"
   ]
  },
  {
   "cell_type": "code",
   "execution_count": 18,
   "id": "049aae7e-768a-4cde-811e-9388fc174a89",
   "metadata": {},
   "outputs": [
    {
     "data": {
      "application/vnd.jupyter.widget-view+json": {
       "model_id": "a7e20874622246158b2e9edb287d072c",
       "version_major": 2,
       "version_minor": 0
      },
      "text/plain": [
       "Downloading builder script:   0%|          | 0.00/70.6k [00:00<?, ?B/s]"
      ]
     },
     "metadata": {},
     "output_type": "display_data"
    },
    {
     "data": {
      "application/vnd.jupyter.widget-view+json": {
       "model_id": "16cf99ca9a4d4a229947a084f7c10374",
       "version_major": 2,
       "version_minor": 0
      },
      "text/plain": [
       "Downloading metadata:   0%|          | 0.00/169k [00:00<?, ?B/s]"
      ]
     },
     "metadata": {},
     "output_type": "display_data"
    },
    {
     "data": {
      "application/vnd.jupyter.widget-view+json": {
       "model_id": "aeba842d071a4b80b2b218eafbc6641b",
       "version_major": 2,
       "version_minor": 0
      },
      "text/plain": [
       "Downloading readme:   0%|          | 0.00/9.52k [00:00<?, ?B/s]"
      ]
     },
     "metadata": {},
     "output_type": "display_data"
    },
    {
     "data": {
      "application/vnd.jupyter.widget-view+json": {
       "model_id": "251d66e93bc04060bb4da95524276e54",
       "version_major": 2,
       "version_minor": 0
      },
      "text/plain": [
       "Downloading data:   0%|          | 0.00/19.5M [00:00<?, ?B/s]"
      ]
     },
     "metadata": {},
     "output_type": "display_data"
    },
    {
     "data": {
      "application/vnd.jupyter.widget-view+json": {
       "model_id": "0c50f85635f64903a056faa84bef3965",
       "version_major": 2,
       "version_minor": 0
      },
      "text/plain": [
       "Generating train split:   0%|          | 0/10 [00:00<?, ? examples/s]"
      ]
     },
     "metadata": {},
     "output_type": "display_data"
    },
    {
     "data": {
      "application/vnd.jupyter.widget-view+json": {
       "model_id": "61b72babafba471ab04a20494769ca30",
       "version_major": 2,
       "version_minor": 0
      },
      "text/plain": [
       "Generating test split:   0%|          | 0/490 [00:00<?, ? examples/s]"
      ]
     },
     "metadata": {},
     "output_type": "display_data"
    }
   ],
   "source": [
    "import datasets\n",
    "dataset = datasets.load_dataset('nguha/legalbench', 'corporate_lobbying')\n",
    "train_raw = dataset['train'].to_pandas()\n",
    "test_raw = dataset['test'].to_pandas()\n",
    "\n",
    "# get a sample of 100 from the test set\n",
    "test = test_raw.sample(100, random_state=42)\n",
    "\n",
    "# get remaining test set to use as the train set\n",
    "train = test_raw.drop(test.index)"
   ]
  },
  {
   "cell_type": "code",
   "execution_count": 29,
   "id": "6badd997-105b-402a-bdb7-e59a509a70b0",
   "metadata": {},
   "outputs": [],
   "source": [
    "FINETUNE_PROMPT_CORPORTATE_LOBBYING = \"\"\"<s>[INST] <<SYS>>\n",
    "You are a lobbyist analyzing Congressional bills for their impacts on companies. \n",
    "Given the title and summary of the bill, plus information on the company from its 10K SEC filing, it is your job to determine if a bill is at least somewhat relevant to a company in terms of whether it could impact the company's bottom-line if it was enacted (by saying YES or NO; note the all-caps). \n",
    "<</SYS>>\n",
    "Official title of bill: {bill_title}\n",
    "Official summary of bill: {bill_summary}\n",
    "Company name: {company_name}\n",
    "Company business description: {company_description}\n",
    "Is this bill potentially relevant to the company? [/INST]{answer}</s>\"\"\"\n",
    "\n",
    "query_list = []\n",
    "for _, row in train.iterrows():\n",
    "    query = FINETUNE_PROMPT_CORPORTATE_LOBBYING.format(\n",
    "        bill_title=row['bill_title'],\n",
    "        bill_summary=row['bill_summary'],\n",
    "        company_name=row['company_name'],\n",
    "        company_description=row['company_description'],\n",
    "        answer=row['answer'].upper()\n",
    "    )\n",
    "    query_list.append(query)"
   ]
  },
  {
   "cell_type": "code",
   "execution_count": 30,
   "id": "e8818dc6-66fd-4369-bcb7-1decb3626e4d",
   "metadata": {},
   "outputs": [],
   "source": [
    "train['text'] = query_list"
   ]
  },
  {
   "cell_type": "code",
   "execution_count": 31,
   "id": "e28cf5c2-12c7-4e3f-b211-c3a505ec66d4",
   "metadata": {},
   "outputs": [
    {
     "data": {
      "text/html": [
       "<div>\n",
       "<style scoped>\n",
       "    .dataframe tbody tr th:only-of-type {\n",
       "        vertical-align: middle;\n",
       "    }\n",
       "\n",
       "    .dataframe tbody tr th {\n",
       "        vertical-align: top;\n",
       "    }\n",
       "\n",
       "    .dataframe thead th {\n",
       "        text-align: right;\n",
       "    }\n",
       "</style>\n",
       "<table border=\"1\" class=\"dataframe\">\n",
       "  <thead>\n",
       "    <tr style=\"text-align: right;\">\n",
       "      <th></th>\n",
       "      <th>answer</th>\n",
       "      <th>bill_summary</th>\n",
       "      <th>bill_title</th>\n",
       "      <th>company_description</th>\n",
       "      <th>company_name</th>\n",
       "      <th>index</th>\n",
       "      <th>text</th>\n",
       "    </tr>\n",
       "  </thead>\n",
       "  <tbody>\n",
       "    <tr>\n",
       "      <th>1</th>\n",
       "      <td>No</td>\n",
       "      <td>Space Frontier Act of 2019\\n\\nThe bill revises...</td>\n",
       "      <td>A bill to reduce regulatory burdens and stream...</td>\n",
       "      <td>we\") participate in the Electronic Manufacturi...</td>\n",
       "      <td>Plexus Corp.</td>\n",
       "      <td>1</td>\n",
       "      <td>&lt;s&gt;[INST] &lt;&lt;SYS&gt;&gt;\\nYou are a lobbyist analyzin...</td>\n",
       "    </tr>\n",
       "    <tr>\n",
       "      <th>2</th>\n",
       "      <td>No</td>\n",
       "      <td>Damon Paul Nelson and Matthew Young Pollard In...</td>\n",
       "      <td>A bill to authorize appropriations for fiscal ...</td>\n",
       "      <td>(\"TriQuint\") entered into an Agreement and Pla...</td>\n",
       "      <td>Qorvo, Inc.</td>\n",
       "      <td>2</td>\n",
       "      <td>&lt;s&gt;[INST] &lt;&lt;SYS&gt;&gt;\\nYou are a lobbyist analyzin...</td>\n",
       "    </tr>\n",
       "    <tr>\n",
       "      <th>3</th>\n",
       "      <td>No</td>\n",
       "      <td>Pandemic and All-Hazards Preparedness and Adva...</td>\n",
       "      <td>To reauthorize certain programs under the Publ...</td>\n",
       "      <td>Inc. (\"HYG\"), is a leading, globally integrate...</td>\n",
       "      <td>Hyster-Yale Materials Handling, Inc.</td>\n",
       "      <td>3</td>\n",
       "      <td>&lt;s&gt;[INST] &lt;&lt;SYS&gt;&gt;\\nYou are a lobbyist analyzin...</td>\n",
       "    </tr>\n",
       "    <tr>\n",
       "      <th>4</th>\n",
       "      <td>No</td>\n",
       "      <td>Combat Online Predators Act\\n\\nThis bill incre...</td>\n",
       "      <td>To amend title 18, United States Code, with re...</td>\n",
       "      <td>Haemonetics Corporation, a healthcare company,...</td>\n",
       "      <td>Haemonetics Corp.</td>\n",
       "      <td>4</td>\n",
       "      <td>&lt;s&gt;[INST] &lt;&lt;SYS&gt;&gt;\\nYou are a lobbyist analyzin...</td>\n",
       "    </tr>\n",
       "    <tr>\n",
       "      <th>5</th>\n",
       "      <td>No</td>\n",
       "      <td>For the People Act of 2019\\n\\nThis bill addres...</td>\n",
       "      <td>To expand Americans' access to the ballot box,...</td>\n",
       "      <td>Our company consists of two business segments:...</td>\n",
       "      <td>Altra Industrial Motion Corp.</td>\n",
       "      <td>5</td>\n",
       "      <td>&lt;s&gt;[INST] &lt;&lt;SYS&gt;&gt;\\nYou are a lobbyist analyzin...</td>\n",
       "    </tr>\n",
       "  </tbody>\n",
       "</table>\n",
       "</div>"
      ],
      "text/plain": [
       "  answer                                       bill_summary  \\\n",
       "1     No  Space Frontier Act of 2019\\n\\nThe bill revises...   \n",
       "2     No  Damon Paul Nelson and Matthew Young Pollard In...   \n",
       "3     No  Pandemic and All-Hazards Preparedness and Adva...   \n",
       "4     No  Combat Online Predators Act\\n\\nThis bill incre...   \n",
       "5     No  For the People Act of 2019\\n\\nThis bill addres...   \n",
       "\n",
       "                                          bill_title  \\\n",
       "1  A bill to reduce regulatory burdens and stream...   \n",
       "2  A bill to authorize appropriations for fiscal ...   \n",
       "3  To reauthorize certain programs under the Publ...   \n",
       "4  To amend title 18, United States Code, with re...   \n",
       "5  To expand Americans' access to the ballot box,...   \n",
       "\n",
       "                                 company_description  \\\n",
       "1  we\") participate in the Electronic Manufacturi...   \n",
       "2  (\"TriQuint\") entered into an Agreement and Pla...   \n",
       "3  Inc. (\"HYG\"), is a leading, globally integrate...   \n",
       "4  Haemonetics Corporation, a healthcare company,...   \n",
       "5  Our company consists of two business segments:...   \n",
       "\n",
       "                           company_name index  \\\n",
       "1                          Plexus Corp.     1   \n",
       "2                           Qorvo, Inc.     2   \n",
       "3  Hyster-Yale Materials Handling, Inc.     3   \n",
       "4                     Haemonetics Corp.     4   \n",
       "5         Altra Industrial Motion Corp.     5   \n",
       "\n",
       "                                                text  \n",
       "1  <s>[INST] <<SYS>>\\nYou are a lobbyist analyzin...  \n",
       "2  <s>[INST] <<SYS>>\\nYou are a lobbyist analyzin...  \n",
       "3  <s>[INST] <<SYS>>\\nYou are a lobbyist analyzin...  \n",
       "4  <s>[INST] <<SYS>>\\nYou are a lobbyist analyzin...  \n",
       "5  <s>[INST] <<SYS>>\\nYou are a lobbyist analyzin...  "
      ]
     },
     "execution_count": 31,
     "metadata": {},
     "output_type": "execute_result"
    }
   ],
   "source": [
    "train.head()"
   ]
  },
  {
   "cell_type": "code",
   "execution_count": 47,
   "id": "d4054396-a0ba-4d73-ae6c-6af34409b3b6",
   "metadata": {},
   "outputs": [
    {
     "data": {
      "text/plain": [
       "'<s>[INST] <<SYS>>\\nYou are a lobbyist analyzing Congressional bills for their impacts on companies. \\nGiven the title and summary of the bill, plus information on the company from its 10K SEC filing, it is your job to determine if a bill is at least somewhat relevant to a company in terms of whether it could impact the company\\'s bottom-line if it was enacted (by saying YES or NO; note the all-caps). \\n<</SYS>>\\nOfficial title of bill: A bill to reduce regulatory burdens and streamline processes related to commercial space activities, and for other purposes.\\nOfficial summary of bill: Space Frontier Act of 2019\\n\\nThe bill revises provisions relating to commercial space launch license applications and experimental permits. The Department of Transportation shall consolidate across federal agencies requirements to protect the public health and safety, safety of property, national security interests, and foreign policy interests of the United States relevant to any commercial space vehicle into a single application set that satisfies those requirements and expedites the coordination of commercial space services.\\n\\nNASA is authorized to establish a low-Earth orbit commercialization program.\\n\\nThe bill revises and sets forth provisions relating to nongovernmental Earth observation activities.\\n\\nNASA must ensure that the International Space Station remains a viable and productive facility capable of potential U.S. use through at least FY2030.\\nCompany name: Plexus Corp.\\nCompany business description: we\") participate in the Electronic Manufacturing Services (\"EMS\") industry. We partner with our customers to create the products that build a better world. Since 1979, Plexus has been partnering with companies to transform concepts into branded products and deliver them to the market. From idea to aftermarket and everything in between, Plexus is a global leader in providing support for all the facets of the product realization process - Design and Development, Supply Chain Solutions, New Product Introduction, Manufacturing, and Aftermarket Services. Plexus delivers comprehensive end-to-end solutions in the Americas (\"AMER\"), Europe, Middle East, and Africa (\"EMEA\") and Asia-Pacific (\"APAC\") regions for our customers.  We specialize in working in industries with highly complex products and demanding regulatory requirements. Plexus has partnerships with approximately 140 customers in the Healthcare/Life Sciences, Industrial/Commercial, Communications, and Aerospace/Defense market sectors. We leverage our expertise to understand the unique needs of our customers\\' markets and have aligned our processes to provide flexibility, create efficiency and deliver superior quality. Our customers have stringent quality, reliability and regulatory requirements, requiring exceptional production and supply chain agility. Their products require complex configuration management, direct order fulfillment (to end customers), global logistics management and aftermarket services. To service the complexities that our customers\\' products demand, we utilize our full suite of solution offerings to support our customers\\' products from concept to end of life.  Plexus is passionate about being the leading EMS company in the world at servicing mid-to-low volume, higher complexity customer programs, characterized by unique flexibility, technology, quality and regulatory requirements. A high performance, accountable organization with a talented workforce that is deeply passionate about driving growth through customer service excellence; • Strategic growth by using customer driven, sector based go-to-market strategies; and •  Execution driven by a collaborative, customer centric culture that continuously evaluates and optimizes our business processes to strive to create shareholder value.  We operate flexible manufacturing facilities and design our processes to accommodate customers with multiple product lines and configurations. One or more uniquely configured \"focus factories,\" supported by a tailored supply chain and logistics solution, are designed to meet the flexibility and responsiveness needed to support customer fulfillment requirements.  Each sector has a market sector vice president and a business development and customer management leader who together oversee and provide leadership to teams that include business development directors, customer directors or managers, supply chain and manufacturing subject matter experts, and market sector analysts. These teams maintain expertise related to each market sector and execute sector strategies aligned to that market\\'s unique quality and regulatory requirements.  Our market sector teams help define Plexus\\' strategy for growth with a particular emphasis on expanding the value-added solutions we offer customers. Our primary focus is to earn a return on invested capital (\"ROIC\") Plexus measures economic profit by taking the difference between ROIC and WACC and multiplying it by invested capital. 4 Relative to our competition, overriding factors such as lower manufacturing volumes, flexibility and fulfillment requirements, and complex regulatory requirements typically result in higher investments in inventory and selling and administrative costs for us. The cost variance from our competitors is especially evident relative to those that provide EMS services for high-volume, less complex products, with less stringent requirements (e.g., consumer electronics).  Plexus serves a diverse customer landscape that includes industry-leading, branded product companies, along with many other technology pioneering start-ups or emerging companies that may or may not maintain manufacturing capabilities. As a result of serving market sectors that rely on advanced electronics technology, our business is influenced by critical technological trends such as the level and rate of development of wired and wireless telecommunications infrastructure, communications data and data bandwidth growth, and internet usage.\\nIs this bill potentially relevant to the company? [/INST]NO</s>'"
      ]
     },
     "execution_count": 47,
     "metadata": {},
     "output_type": "execute_result"
    }
   ],
   "source": [
    "train['text'].iloc[0]"
   ]
  },
  {
   "cell_type": "markdown",
   "id": "02815464-2281-45d6-986e-65ec8c09ab66",
   "metadata": {},
   "source": [
    "## Same for test set"
   ]
  },
  {
   "cell_type": "code",
   "execution_count": 40,
   "id": "9e21182c-dd97-40e5-8759-d324b68556e0",
   "metadata": {},
   "outputs": [],
   "source": [
    "FINETUNE_PROMPT_CORPORTATE_LOBBYING_TEST = \"\"\"<s>[INST] <<SYS>>\n",
    "You are a lobbyist analyzing Congressional bills for their impacts on companies. \n",
    "Given the title and summary of the bill, plus information on the company from its 10K SEC filing, it is your job to determine if a bill is at least somewhat relevant to a company in terms of whether it could impact the company's bottom-line if it was enacted (by saying YES or NO; note the all-caps). \n",
    "<</SYS>>\n",
    "Official title of bill: {bill_title}\n",
    "Official summary of bill: {bill_summary}\n",
    "Company name: {company_name}\n",
    "Company business description: {company_description}\n",
    "Is this bill potentially relevant to the company? [/INST]\"\"\"\n",
    "\n",
    "query_list_test = []\n",
    "for _, row in test.iterrows():\n",
    "    query = FINETUNE_PROMPT_CORPORTATE_LOBBYING_TEST.format(\n",
    "        bill_title=row['bill_title'],\n",
    "        bill_summary=row['bill_summary'],\n",
    "        company_name=row['company_name'],\n",
    "        company_description=row['company_description']\n",
    "    )\n",
    "    query_list_test.append(query)"
   ]
  },
  {
   "cell_type": "code",
   "execution_count": 42,
   "id": "5209073a-51cd-4fe3-a98c-4067c208b3ba",
   "metadata": {},
   "outputs": [],
   "source": [
    "test['query'] = query_list_test"
   ]
  },
  {
   "cell_type": "code",
   "execution_count": 43,
   "id": "feeca3af-eccc-41b7-a805-ed47b9b7ff8e",
   "metadata": {},
   "outputs": [
    {
     "data": {
      "text/html": [
       "<div>\n",
       "<style scoped>\n",
       "    .dataframe tbody tr th:only-of-type {\n",
       "        vertical-align: middle;\n",
       "    }\n",
       "\n",
       "    .dataframe tbody tr th {\n",
       "        vertical-align: top;\n",
       "    }\n",
       "\n",
       "    .dataframe thead th {\n",
       "        text-align: right;\n",
       "    }\n",
       "</style>\n",
       "<table border=\"1\" class=\"dataframe\">\n",
       "  <thead>\n",
       "    <tr style=\"text-align: right;\">\n",
       "      <th></th>\n",
       "      <th>answer</th>\n",
       "      <th>bill_summary</th>\n",
       "      <th>bill_title</th>\n",
       "      <th>company_description</th>\n",
       "      <th>company_name</th>\n",
       "      <th>index</th>\n",
       "      <th>query</th>\n",
       "    </tr>\n",
       "  </thead>\n",
       "  <tbody>\n",
       "    <tr>\n",
       "      <th>452</th>\n",
       "      <td>Yes</td>\n",
       "      <td>Bringing an End to Harassment by Enhancing Acc...</td>\n",
       "      <td>A bill to prevent discrimination and harassmen...</td>\n",
       "      <td>We are guided by four principles: customer obs...</td>\n",
       "      <td>Amazon.com, Inc.</td>\n",
       "      <td>452</td>\n",
       "      <td>&lt;s&gt;[INST] &lt;&lt;SYS&gt;&gt;\\nYou are a lobbyist analyzin...</td>\n",
       "    </tr>\n",
       "    <tr>\n",
       "      <th>84</th>\n",
       "      <td>No</td>\n",
       "      <td>Safety Enhancements for Communities Using Reas...</td>\n",
       "      <td>To amend title 18, United States Code, to requ...</td>\n",
       "      <td>Legg Mason, Inc. is a publicly owned asset man...</td>\n",
       "      <td>Legg Mason, Inc.</td>\n",
       "      <td>84</td>\n",
       "      <td>&lt;s&gt;[INST] &lt;&lt;SYS&gt;&gt;\\nYou are a lobbyist analyzin...</td>\n",
       "    </tr>\n",
       "    <tr>\n",
       "      <th>434</th>\n",
       "      <td>No</td>\n",
       "      <td>Authorizing Critical Conservation and Enabling...</td>\n",
       "      <td>To provide for the preservation of America's o...</td>\n",
       "      <td>(\"TriQuint\") entered into an Agreement and Pla...</td>\n",
       "      <td>Qorvo, Inc.</td>\n",
       "      <td>434</td>\n",
       "      <td>&lt;s&gt;[INST] &lt;&lt;SYS&gt;&gt;\\nYou are a lobbyist analyzin...</td>\n",
       "    </tr>\n",
       "    <tr>\n",
       "      <th>473</th>\n",
       "      <td>No</td>\n",
       "      <td>Affordable Prescriptions for Patients Act of 2...</td>\n",
       "      <td>A bill to amend the Federal Trade Commission A...</td>\n",
       "      <td>customer acceptance and demand for our cloud c...</td>\n",
       "      <td>8x8, Inc.</td>\n",
       "      <td>473</td>\n",
       "      <td>&lt;s&gt;[INST] &lt;&lt;SYS&gt;&gt;\\nYou are a lobbyist analyzin...</td>\n",
       "    </tr>\n",
       "    <tr>\n",
       "      <th>428</th>\n",
       "      <td>No</td>\n",
       "      <td>Public Buildings Renewal Act of 2019\\n\\nThis b...</td>\n",
       "      <td>A bill to amend the Internal Revenue Code of 1...</td>\n",
       "      <td>The Company is engaged principally in the reta...</td>\n",
       "      <td>Weis Markets, Inc.</td>\n",
       "      <td>428</td>\n",
       "      <td>&lt;s&gt;[INST] &lt;&lt;SYS&gt;&gt;\\nYou are a lobbyist analyzin...</td>\n",
       "    </tr>\n",
       "  </tbody>\n",
       "</table>\n",
       "</div>"
      ],
      "text/plain": [
       "    answer                                       bill_summary  \\\n",
       "452    Yes  Bringing an End to Harassment by Enhancing Acc...   \n",
       "84      No  Safety Enhancements for Communities Using Reas...   \n",
       "434     No  Authorizing Critical Conservation and Enabling...   \n",
       "473     No  Affordable Prescriptions for Patients Act of 2...   \n",
       "428     No  Public Buildings Renewal Act of 2019\\n\\nThis b...   \n",
       "\n",
       "                                            bill_title  \\\n",
       "452  A bill to prevent discrimination and harassmen...   \n",
       "84   To amend title 18, United States Code, to requ...   \n",
       "434  To provide for the preservation of America's o...   \n",
       "473  A bill to amend the Federal Trade Commission A...   \n",
       "428  A bill to amend the Internal Revenue Code of 1...   \n",
       "\n",
       "                                   company_description        company_name  \\\n",
       "452  We are guided by four principles: customer obs...    Amazon.com, Inc.   \n",
       "84   Legg Mason, Inc. is a publicly owned asset man...    Legg Mason, Inc.   \n",
       "434  (\"TriQuint\") entered into an Agreement and Pla...         Qorvo, Inc.   \n",
       "473  customer acceptance and demand for our cloud c...           8x8, Inc.   \n",
       "428  The Company is engaged principally in the reta...  Weis Markets, Inc.   \n",
       "\n",
       "    index                                              query  \n",
       "452   452  <s>[INST] <<SYS>>\\nYou are a lobbyist analyzin...  \n",
       "84     84  <s>[INST] <<SYS>>\\nYou are a lobbyist analyzin...  \n",
       "434   434  <s>[INST] <<SYS>>\\nYou are a lobbyist analyzin...  \n",
       "473   473  <s>[INST] <<SYS>>\\nYou are a lobbyist analyzin...  \n",
       "428   428  <s>[INST] <<SYS>>\\nYou are a lobbyist analyzin...  "
      ]
     },
     "execution_count": 43,
     "metadata": {},
     "output_type": "execute_result"
    }
   ],
   "source": [
    "test.head()"
   ]
  },
  {
   "cell_type": "code",
   "execution_count": 33,
   "id": "9f6bf034-d520-4998-92b4-dfa1b5690495",
   "metadata": {},
   "outputs": [],
   "source": [
    "from datasets import Dataset\n",
    "train_hf = Dataset.from_pandas(train[['text']])"
   ]
  },
  {
   "cell_type": "code",
   "execution_count": 34,
   "id": "b47287ae-f423-4462-bc56-b55e1523ff59",
   "metadata": {},
   "outputs": [
    {
     "name": "stderr",
     "output_type": "stream",
     "text": [
      "/home/ubuntu/.local/lib/python3.8/site-packages/peft/utils/other.py:102: FutureWarning: prepare_model_for_int8_training is deprecated and will be removed in a future version. Use prepare_model_for_kbit_training instead.\n",
      "  warnings.warn(\n",
      "/home/ubuntu/.local/lib/python3.8/site-packages/trl/trainer/sft_trainer.py:159: UserWarning: You didn't pass a `max_seq_length` argument to the SFTTrainer, this will default to 1024\n",
      "  warnings.warn(\n"
     ]
    },
    {
     "data": {
      "application/vnd.jupyter.widget-view+json": {
       "model_id": "3556f85a52214f59b3db6629e5f7712d",
       "version_major": 2,
       "version_minor": 0
      },
      "text/plain": [
       "Map:   0%|          | 0/390 [00:00<?, ? examples/s]"
      ]
     },
     "metadata": {},
     "output_type": "display_data"
    }
   ],
   "source": [
    "# Set supervised fine-tuning parameters\n",
    "trainer = SFTTrainer(\n",
    "    model=model,\n",
    "    train_dataset=train_hf,\n",
    "    peft_config=peft_config,\n",
    "    dataset_text_field=\"text\",\n",
    "    max_seq_length=max_seq_length,\n",
    "    tokenizer=tokenizer,\n",
    "    args=training_arguments,\n",
    "    packing=packing,\n",
    ")"
   ]
  },
  {
   "cell_type": "code",
   "execution_count": 35,
   "id": "48bca98c-f48a-4f3b-b3e5-b5cfc10f46c5",
   "metadata": {},
   "outputs": [
    {
     "name": "stderr",
     "output_type": "stream",
     "text": [
      "You're using a LlamaTokenizerFast tokenizer. Please note that with a fast tokenizer, using the `__call__` method is faster than using a method to encode the text followed by a call to the `pad` method to get a padded encoding.\n"
     ]
    },
    {
     "data": {
      "text/html": [
       "\n",
       "    <div>\n",
       "      \n",
       "      <progress value='196' max='196' style='width:300px; height:20px; vertical-align: middle;'></progress>\n",
       "      [196/196 12:26, Epoch 2/2]\n",
       "    </div>\n",
       "    <table border=\"1\" class=\"dataframe\">\n",
       "  <thead>\n",
       " <tr style=\"text-align: left;\">\n",
       "      <th>Step</th>\n",
       "      <th>Training Loss</th>\n",
       "    </tr>\n",
       "  </thead>\n",
       "  <tbody>\n",
       "    <tr>\n",
       "      <td>25</td>\n",
       "      <td>1.874600</td>\n",
       "    </tr>\n",
       "    <tr>\n",
       "      <td>50</td>\n",
       "      <td>1.425400</td>\n",
       "    </tr>\n",
       "    <tr>\n",
       "      <td>75</td>\n",
       "      <td>1.346600</td>\n",
       "    </tr>\n",
       "    <tr>\n",
       "      <td>100</td>\n",
       "      <td>1.289700</td>\n",
       "    </tr>\n",
       "    <tr>\n",
       "      <td>125</td>\n",
       "      <td>1.249900</td>\n",
       "    </tr>\n",
       "    <tr>\n",
       "      <td>150</td>\n",
       "      <td>1.231100</td>\n",
       "    </tr>\n",
       "    <tr>\n",
       "      <td>175</td>\n",
       "      <td>1.220800</td>\n",
       "    </tr>\n",
       "  </tbody>\n",
       "</table><p>"
      ],
      "text/plain": [
       "<IPython.core.display.HTML object>"
      ]
     },
     "metadata": {},
     "output_type": "display_data"
    },
    {
     "data": {
      "text/plain": [
       "TrainOutput(global_step=196, training_loss=1.361326198188626, metrics={'train_runtime': 751.0501, 'train_samples_per_second': 1.039, 'train_steps_per_second': 0.261, 'total_flos': 1.63077634916352e+16, 'train_loss': 1.361326198188626, 'epoch': 2.0})"
      ]
     },
     "execution_count": 35,
     "metadata": {},
     "output_type": "execute_result"
    }
   ],
   "source": [
    "trainer.train()"
   ]
  },
  {
   "cell_type": "code",
   "execution_count": 36,
   "id": "7944ace8-bd43-4d45-983f-5e9fa08a7247",
   "metadata": {},
   "outputs": [],
   "source": [
    "# Save trained model\n",
    "trainer.model.save_pretrained('relevancy-fine-tuned-llama-70B')"
   ]
  },
  {
   "cell_type": "code",
   "execution_count": 38,
   "id": "ced20dd6-64a5-4cc8-a731-d7bc388b9b02",
   "metadata": {},
   "outputs": [],
   "source": [
    "# %load_ext tensorboard\n",
    "# %tensorboard --logdir results/runs"
   ]
  },
  {
   "cell_type": "markdown",
   "id": "f5f08508-5be6-4500-a2cd-3acb1b7a91e7",
   "metadata": {},
   "source": [
    "# Evaluate on Test Set"
   ]
  },
  {
   "cell_type": "code",
   "execution_count": 44,
   "id": "5bba7a88-11a6-46c9-8311-c01a735a9bea",
   "metadata": {},
   "outputs": [
    {
     "data": {
      "text/html": [
       "<div>\n",
       "<style scoped>\n",
       "    .dataframe tbody tr th:only-of-type {\n",
       "        vertical-align: middle;\n",
       "    }\n",
       "\n",
       "    .dataframe tbody tr th {\n",
       "        vertical-align: top;\n",
       "    }\n",
       "\n",
       "    .dataframe thead th {\n",
       "        text-align: right;\n",
       "    }\n",
       "</style>\n",
       "<table border=\"1\" class=\"dataframe\">\n",
       "  <thead>\n",
       "    <tr style=\"text-align: right;\">\n",
       "      <th></th>\n",
       "      <th>answer</th>\n",
       "      <th>bill_summary</th>\n",
       "      <th>bill_title</th>\n",
       "      <th>company_description</th>\n",
       "      <th>company_name</th>\n",
       "      <th>index</th>\n",
       "      <th>query</th>\n",
       "    </tr>\n",
       "  </thead>\n",
       "  <tbody>\n",
       "    <tr>\n",
       "      <th>452</th>\n",
       "      <td>Yes</td>\n",
       "      <td>Bringing an End to Harassment by Enhancing Acc...</td>\n",
       "      <td>A bill to prevent discrimination and harassmen...</td>\n",
       "      <td>We are guided by four principles: customer obs...</td>\n",
       "      <td>Amazon.com, Inc.</td>\n",
       "      <td>452</td>\n",
       "      <td>&lt;s&gt;[INST] &lt;&lt;SYS&gt;&gt;\\nYou are a lobbyist analyzin...</td>\n",
       "    </tr>\n",
       "    <tr>\n",
       "      <th>84</th>\n",
       "      <td>No</td>\n",
       "      <td>Safety Enhancements for Communities Using Reas...</td>\n",
       "      <td>To amend title 18, United States Code, to requ...</td>\n",
       "      <td>Legg Mason, Inc. is a publicly owned asset man...</td>\n",
       "      <td>Legg Mason, Inc.</td>\n",
       "      <td>84</td>\n",
       "      <td>&lt;s&gt;[INST] &lt;&lt;SYS&gt;&gt;\\nYou are a lobbyist analyzin...</td>\n",
       "    </tr>\n",
       "    <tr>\n",
       "      <th>434</th>\n",
       "      <td>No</td>\n",
       "      <td>Authorizing Critical Conservation and Enabling...</td>\n",
       "      <td>To provide for the preservation of America's o...</td>\n",
       "      <td>(\"TriQuint\") entered into an Agreement and Pla...</td>\n",
       "      <td>Qorvo, Inc.</td>\n",
       "      <td>434</td>\n",
       "      <td>&lt;s&gt;[INST] &lt;&lt;SYS&gt;&gt;\\nYou are a lobbyist analyzin...</td>\n",
       "    </tr>\n",
       "    <tr>\n",
       "      <th>473</th>\n",
       "      <td>No</td>\n",
       "      <td>Affordable Prescriptions for Patients Act of 2...</td>\n",
       "      <td>A bill to amend the Federal Trade Commission A...</td>\n",
       "      <td>customer acceptance and demand for our cloud c...</td>\n",
       "      <td>8x8, Inc.</td>\n",
       "      <td>473</td>\n",
       "      <td>&lt;s&gt;[INST] &lt;&lt;SYS&gt;&gt;\\nYou are a lobbyist analyzin...</td>\n",
       "    </tr>\n",
       "    <tr>\n",
       "      <th>428</th>\n",
       "      <td>No</td>\n",
       "      <td>Public Buildings Renewal Act of 2019\\n\\nThis b...</td>\n",
       "      <td>A bill to amend the Internal Revenue Code of 1...</td>\n",
       "      <td>The Company is engaged principally in the reta...</td>\n",
       "      <td>Weis Markets, Inc.</td>\n",
       "      <td>428</td>\n",
       "      <td>&lt;s&gt;[INST] &lt;&lt;SYS&gt;&gt;\\nYou are a lobbyist analyzin...</td>\n",
       "    </tr>\n",
       "  </tbody>\n",
       "</table>\n",
       "</div>"
      ],
      "text/plain": [
       "    answer                                       bill_summary  \\\n",
       "452    Yes  Bringing an End to Harassment by Enhancing Acc...   \n",
       "84      No  Safety Enhancements for Communities Using Reas...   \n",
       "434     No  Authorizing Critical Conservation and Enabling...   \n",
       "473     No  Affordable Prescriptions for Patients Act of 2...   \n",
       "428     No  Public Buildings Renewal Act of 2019\\n\\nThis b...   \n",
       "\n",
       "                                            bill_title  \\\n",
       "452  A bill to prevent discrimination and harassmen...   \n",
       "84   To amend title 18, United States Code, to requ...   \n",
       "434  To provide for the preservation of America's o...   \n",
       "473  A bill to amend the Federal Trade Commission A...   \n",
       "428  A bill to amend the Internal Revenue Code of 1...   \n",
       "\n",
       "                                   company_description        company_name  \\\n",
       "452  We are guided by four principles: customer obs...    Amazon.com, Inc.   \n",
       "84   Legg Mason, Inc. is a publicly owned asset man...    Legg Mason, Inc.   \n",
       "434  (\"TriQuint\") entered into an Agreement and Pla...         Qorvo, Inc.   \n",
       "473  customer acceptance and demand for our cloud c...           8x8, Inc.   \n",
       "428  The Company is engaged principally in the reta...  Weis Markets, Inc.   \n",
       "\n",
       "    index                                              query  \n",
       "452   452  <s>[INST] <<SYS>>\\nYou are a lobbyist analyzin...  \n",
       "84     84  <s>[INST] <<SYS>>\\nYou are a lobbyist analyzin...  \n",
       "434   434  <s>[INST] <<SYS>>\\nYou are a lobbyist analyzin...  \n",
       "473   473  <s>[INST] <<SYS>>\\nYou are a lobbyist analyzin...  \n",
       "428   428  <s>[INST] <<SYS>>\\nYou are a lobbyist analyzin...  "
      ]
     },
     "execution_count": 44,
     "metadata": {},
     "output_type": "execute_result"
    }
   ],
   "source": [
    "test.head()"
   ]
  },
  {
   "cell_type": "code",
   "execution_count": 61,
   "id": "a7e27cc2-07fd-45e8-872d-68bc36f40614",
   "metadata": {},
   "outputs": [],
   "source": [
    "# # Ignore warnings\n",
    "# logging.set_verbosity(logging.INFO)\n",
    "\n",
    "# # Run text generation pipeline with our next model\n",
    "# pipe = pipeline(task=\"text-generation\", model=model, tokenizer=tokenizer, max_length=3000)\n",
    "# result = pipe(test['query'].iloc[0])\n",
    "# print(result[0]['generated_text'])"
   ]
  },
  {
   "cell_type": "code",
   "execution_count": 54,
   "id": "5c2c75e1-b2f7-4254-9132-56dd91c0390b",
   "metadata": {},
   "outputs": [
    {
     "data": {
      "text/plain": [
       "0"
      ]
     },
     "execution_count": 54,
     "metadata": {},
     "output_type": "execute_result"
    }
   ],
   "source": [
    "# Empty VRAM\n",
    "del model\n",
    "del pipe\n",
    "del trainer\n",
    "import gc\n",
    "gc.collect()\n",
    "gc.collect()"
   ]
  },
  {
   "cell_type": "code",
   "execution_count": 56,
   "id": "5983b102-435f-46ec-b89f-2d7bc99dbb03",
   "metadata": {},
   "outputs": [
    {
     "name": "stderr",
     "output_type": "stream",
     "text": [
      "loading configuration file config.json from cache at /home/ubuntu/.cache/huggingface/hub/models--meta-llama--Llama-2-7b-chat-hf/snapshots/08751db2aca9bf2f7f80d2e516117a53d7450235/config.json\n",
      "Model config LlamaConfig {\n",
      "  \"_name_or_path\": \"meta-llama/Llama-2-7b-chat-hf\",\n",
      "  \"architectures\": [\n",
      "    \"LlamaForCausalLM\"\n",
      "  ],\n",
      "  \"bos_token_id\": 1,\n",
      "  \"eos_token_id\": 2,\n",
      "  \"hidden_act\": \"silu\",\n",
      "  \"hidden_size\": 4096,\n",
      "  \"initializer_range\": 0.02,\n",
      "  \"intermediate_size\": 11008,\n",
      "  \"max_position_embeddings\": 4096,\n",
      "  \"model_type\": \"llama\",\n",
      "  \"num_attention_heads\": 32,\n",
      "  \"num_hidden_layers\": 32,\n",
      "  \"num_key_value_heads\": 32,\n",
      "  \"pad_token_id\": 0,\n",
      "  \"pretraining_tp\": 1,\n",
      "  \"rms_norm_eps\": 1e-06,\n",
      "  \"rope_scaling\": null,\n",
      "  \"tie_word_embeddings\": false,\n",
      "  \"torch_dtype\": \"float16\",\n",
      "  \"transformers_version\": \"4.31.0\",\n",
      "  \"use_cache\": true,\n",
      "  \"vocab_size\": 32000\n",
      "}\n",
      "\n",
      "loading weights file model.safetensors from cache at /home/ubuntu/.cache/huggingface/hub/models--meta-llama--Llama-2-7b-chat-hf/snapshots/08751db2aca9bf2f7f80d2e516117a53d7450235/model.safetensors.index.json\n",
      "Instantiating LlamaForCausalLM model under default dtype torch.float16.\n",
      "Generate config GenerationConfig {\n",
      "  \"_from_model_config\": true,\n",
      "  \"bos_token_id\": 1,\n",
      "  \"eos_token_id\": 2,\n",
      "  \"pad_token_id\": 0,\n",
      "  \"transformers_version\": \"4.31.0\"\n",
      "}\n",
      "\n"
     ]
    },
    {
     "data": {
      "application/vnd.jupyter.widget-view+json": {
       "model_id": "623fdce29977482782e6858854eb9dce",
       "version_major": 2,
       "version_minor": 0
      },
      "text/plain": [
       "Loading checkpoint shards:   0%|          | 0/2 [00:00<?, ?it/s]"
      ]
     },
     "metadata": {},
     "output_type": "display_data"
    },
    {
     "name": "stderr",
     "output_type": "stream",
     "text": [
      "All model checkpoint weights were used when initializing LlamaForCausalLM.\n",
      "\n",
      "All the weights of LlamaForCausalLM were initialized from the model checkpoint at meta-llama/Llama-2-7b-chat-hf.\n",
      "If your task is similar to the task the model of the checkpoint was trained on, you can already use LlamaForCausalLM for predictions without further training.\n",
      "loading configuration file generation_config.json from cache at /home/ubuntu/.cache/huggingface/hub/models--meta-llama--Llama-2-7b-chat-hf/snapshots/08751db2aca9bf2f7f80d2e516117a53d7450235/generation_config.json\n",
      "Generate config GenerationConfig {\n",
      "  \"bos_token_id\": 1,\n",
      "  \"do_sample\": true,\n",
      "  \"eos_token_id\": 2,\n",
      "  \"max_length\": 4096,\n",
      "  \"pad_token_id\": 0,\n",
      "  \"temperature\": 0.6,\n",
      "  \"top_p\": 0.9,\n",
      "  \"transformers_version\": \"4.31.0\"\n",
      "}\n",
      "\n",
      "loading file tokenizer.model from cache at /home/ubuntu/.cache/huggingface/hub/models--meta-llama--Llama-2-7b-chat-hf/snapshots/08751db2aca9bf2f7f80d2e516117a53d7450235/tokenizer.model\n",
      "loading file tokenizer.json from cache at /home/ubuntu/.cache/huggingface/hub/models--meta-llama--Llama-2-7b-chat-hf/snapshots/08751db2aca9bf2f7f80d2e516117a53d7450235/tokenizer.json\n",
      "loading file added_tokens.json from cache at None\n",
      "loading file special_tokens_map.json from cache at /home/ubuntu/.cache/huggingface/hub/models--meta-llama--Llama-2-7b-chat-hf/snapshots/08751db2aca9bf2f7f80d2e516117a53d7450235/special_tokens_map.json\n",
      "loading file tokenizer_config.json from cache at /home/ubuntu/.cache/huggingface/hub/models--meta-llama--Llama-2-7b-chat-hf/snapshots/08751db2aca9bf2f7f80d2e516117a53d7450235/tokenizer_config.json\n"
     ]
    }
   ],
   "source": [
    "# Reload model in FP16 and merge it with LoRA weights\n",
    "base_model = AutoModelForCausalLM.from_pretrained(\n",
    "    model_name,\n",
    "    low_cpu_mem_usage=True,\n",
    "    return_dict=True,\n",
    "    torch_dtype=torch.float16,\n",
    "    device_map=device_map,\n",
    ")\n",
    "model = PeftModel.from_pretrained(base_model, 'relevancy-fine-tuned-llama-70B')\n",
    "model = model.merge_and_unload()\n",
    "\n",
    "# Reload tokenizer to save it\n",
    "tokenizer = AutoTokenizer.from_pretrained(model_name, trust_remote_code=True)\n",
    "tokenizer.pad_token = tokenizer.eos_token\n",
    "tokenizer.padding_side = \"right\""
   ]
  },
  {
   "cell_type": "code",
   "execution_count": 57,
   "id": "3c0227ca-f295-445f-9afc-ebbb87f50f4e",
   "metadata": {},
   "outputs": [],
   "source": [
    "# Run text generation pipeline with our next model\n",
    "pipe = pipeline(task=\"text-generation\", model=model, tokenizer=tokenizer, max_length=4000)"
   ]
  },
  {
   "cell_type": "code",
   "execution_count": 58,
   "id": "ceddc9a0-f95c-4a90-907c-2a150a397f36",
   "metadata": {},
   "outputs": [
    {
     "name": "stdout",
     "output_type": "stream",
     "text": [
      "<s>[INST] <<SYS>>\n",
      "You are a lobbyist analyzing Congressional bills for their impacts on companies. \n",
      "Given the title and summary of the bill, plus information on the company from its 10K SEC filing, it is your job to determine if a bill is at least somewhat relevant to a company in terms of whether it could impact the company's bottom-line if it was enacted (by saying YES or NO; note the all-caps). \n",
      "<</SYS>>\n",
      "Official title of bill: A bill to prevent discrimination and harassment in employment.\n",
      "Official summary of bill: Bringing an End to Harassment by Enhancing Accountability and Rejecting Discrimination in the Workplace Act or the BE HEARD in the Workplace Act\n",
      "\n",
      "This bill sets forth provisions to prevent discrimination and harassment in the workplace and raises the minimum wage for tipped employees.\n",
      "\n",
      "Specifically, the bill (1) makes it an unlawful employment practice to discriminate against an individual in the workplace based on sexual orientation, gender identity, pregnancy, childbirth, a medical condition related to pregnancy or childbirth, and a sex stereotype; (2) prohibits employers from entering into contracts or agreements with workers that contain certain nondisparagement or nondisclosure clauses; (3) prohibits predispute arbitration agreements and postdispute agreements with certain exceptions, and (4) establishes grant programs to prevent and respond to workplace discrimination and harassment, provide legal assistance for low-income workers related to employment discrimination, and establish a system of legal advocacy in states to protect the rights of workers.\n",
      "\n",
      "Additionally, the bill, among other things\n",
      "\n",
      " requires employers who have 15 or more employees to adopt a comprehensive nondiscrimination policy; requires the Equal Employment Opportunity Commission to provide specified training and resource materials, establish and convene a harassment prevention task force, and establish an Office of Education and Outreach with regard to prohibited discrimination and harassment in employment; requires specified studies, reports, and research on prohibited harassment in employment; and grants employees the right to retain their tips.\n",
      "Company name: Amazon.com, Inc.\n",
      "Company business description: We are guided by four principles: customer obsession rather than competitor focus, passion for invention, commitment to operational excellence, and long-term thinking. In each of our segments, we serve our primary customer sets, consisting of consumers, sellers, developers, enterprises, and content creators. In addition, we provide services, such as advertising.  We serve consumers through our online and physical stores and focus on selection, price, and convenience. We design our stores to enable hundreds of millions of unique products to be sold by us and by third parties across dozens of product categories. Customers access our offerings through our websites, mobile apps, Alexa, and physically visiting our stores. We also manufacture and sell electronic devices, including Kindle e-readers, Fire tablets, Fire TVs, and Echo devices, and we develop and produce media content. In addition, we offer Amazon Prime, a membership program that includes unlimited free shipping on over 100 million items, access to unlimited streaming of thousands of movies and TV episodes, and other benefits.  We fulfill customer orders in a number of ways, including through: North America and International fulfillment and delivery networks that we operate; co-sourced and outsourced arrangements in certain countries; digital delivery; and through our physical stores. We offer programs that enable sellers to grow their businesses, sell their products in our stores, and fulfill orders through us. We earn fixed fees, a percentage of sales, per-unit activity fees, interest, or some combination thereof, for our seller programs.  We serve developers and enterprises of all sizes, including start-ups, government agencies, and academic institutions, through our AWS segment, which offers a broad set of global compute, storage, database, and other service offerings.  We serve authors and independent publishers with Kindle Direct Publishing, an online service that lets independent authors and publishers choose a royalty option and make their books available in the Kindle Store, along with Amazon's own publishing arm, Amazon Publishing. We also offer programs that allow authors, musicians, filmmakers, skill and app developers, and others to publish and sell content.  Our businesses encompass a large variety of product types, service offerings, and delivery channels. The worldwide marketplace in which we compete is evolving rapidly and intensely competitive, and we face a broad array of competitors from many different industry sectors around the world. We believe that the principal competitive factors in our retail businesses include selection, price, and convenience, including fast and reliable fulfillment. Additional competitive factors for our seller and enterprise services include the quality, speed, and reliability of our services and tools, as well as customers' ability and willingness to change business practices. They may secure better terms from suppliers, adopt more aggressive pricing, pursue restrictive distribution agreements that restrict our access to supply, direct consumers to their own offerings instead of ours, lock-in potential customers with restrictive terms, and devote more resources to technology, infrastructure, fulfillment, and marketing. Fourth quarter 2017 results include revenue attributable to Whole Foods Market, which we acquired on August 28, 2017.  Competition for qualified personnel in our industry has historically been intense, particularly for software engineers, computer scientists, and other technical staff. \n",
      "Is this bill potentially relevant to the company? [/INST]</p>\n",
      "YES. This bill could impact the company if it was enacted because it would prohibit predispute arbitration agreements and postdispute agreements with certain exceptions, and establish grant programs to prevent and respond to workplace discrimination and harassment, provide legal assistance for low-income workers related to employment discrimination, and establish a system of legal advocacy in states to protect the rights of workers. Amazon is an online retailer that sells products from third-party sellers, and it also offers a range of services including cloud computing, advertising, and digital content. Amazon has faced criticism for its treatment of employees, including allegations that it has violated labor laws and mistreated warehouse workers. The bill would prohibit predispute arbitration agreements and postdispute agreements with certain exceptions, which would apply to employment, labor disputes, and civil rights claims.  Amazon also has faced criticism for its treatment of third-party sellers, including allegations that it has violated antitrust laws and mistreated sellers. The bill would establish grant programs to prevent and respond to workplace discrimination and harassment, provide legal assistance for low-income workers related to employment discrimination, and establish a system of legal advocacy in states to protect the rights of workers. Amazon has faced criticism for its treatment of workers in its warehouses, including allegations that it has violated labor laws and mistreated workers. The bill would prohibit employers who have 15 or more employees to adopt a comprehensive nondiscrimination policy, and require the Equal Employment Opportunity Commission to provide specified training and resource materials, establish and convene a harassment prevention task force, and establish an Office of Education and Outreach with regard to prohibited discrimination and harassment in employment. Amazon has faced criticism for its treatment of workers in its warehouses, including allegations that it has violated labor laws and mistreated workers. The bill would require employers to report specified information relating to their workforces, including the number of employees in each job category, the number of employees who are employed in each job category, and the number of employees who are employed in each job category and who are paid at or below minimum wage. Amazon has faced criticism for its treatment of workers in its warehouses, including allegations that it has violated labor laws and mistreated workers. The bill would require the Secretary of Labor to conduct studies on prohibited harassment in employment, and establish an Office of Education and Outreach with regard to prohibited discrimination and harassment in employment. Amazon has faced criticism for its treatment of workers in its warehouses, including allegations that it has violated labor laws and mistreated workers. The bill would require employers to retain tips, and prohibit employers from entering into contracts or agreements with workers that contain certain nondisparagement or nondisclosure clauses. Amazon has faced criticism for its treatment of workers in its warehouses, including allegations that it has violated labor laws and mistreated workers. The bill would establish a system of legal advocacy in states to protect the rights of workers. Amazon has faced criticism for its treatment of workers in its warehouses, including allegations that it has violated labor laws and mistreated workers. The bill would require employers to provide specified training to employees on workplace discrimination and harassment, and require employers to provide specified training to employees on workplace discrimination and harassment. Amazon has faced criticism for its treatment of workers in its warehouses, including allegations that it has violated labor laws and mistreated workers. The bill would prohibit employers from entering into contracts or agreements with workers that contain certain provisions relating to the use of nondisclosure agreements, and require employers to provide specified information relating to their workforces. Amazon has faced criticism for its treatment of workers in its warehouses, including allegations that it has violated labor laws and mistreated workers. The bill would require employers to provide specified information relating to their workforces, including the number of employees in each job category, the number of employees who are employed in each job category, and the number of employees who are employed in each job category and who are paid at or below minimum wage. Amazon has faced criticism for its treatment of workers in its warehouses, including allegations that it has violated labor laws and mistreated workers. The bill would require employers to provide specified information relating to their workforces, including the number of employees in each job category, the number of employees who are employed in each job category, and the number of employees who are employed in each job category and who are paid at or below minimum wage. Amazon has faced criticism for its treatment of workers in its warehouses, including allegations that it has violated labor laws and mistreated workers. The bill would require employers to provide specified information relating to their workforces, including the number of employees in each job category, the number of employees who are employed in each job category, and the number of employees who are employed in each job category and who are paid at or below minimum wage. Amazon has faced criticism for its treatment of workers in its warehouses, including allegations that it has violated labor laws and mistreated workers. The bill would require employers to provide specified information relating to their workforces, including the number of employees in each job category, the number of employees who are employed in each job category, and the number of employees who are employed in each job category and who are paid at or below minimum wage. Amazon has faced criticism for its treatment of workers in its warehouses, including allegations that it has violated labor laws and mistreated workers. The bill would require employers to provide specified information relating to their workforces, including the number of employees in each job category, the number of employees who are employed in each job category, and the number of employees who are employed in each job category and who are paid at or below minimum wage. Amazon has faced criticism for its treatment of workers in its warehouses, including allegations that it has violated labor laws and mistreated workers. The bill would require employers to provide specified information relating to their workforces, including the number of employees in each job category, the number of employees who are employed in each job category, and the number of employees who are employed in each job category and who are paid at or below minimum wage. Amazon has faced criticism for its treatment of workers in its warehouses, including allegations that it has violated labor laws and mistreated workers. The bill would require employers to provide specified information relating to their workforces, including the number of employees in each job category, the number of employees who are employed in each job category, and the number of employees who are employed in each job category and who are paid at or below minimum wage. Amazon has faced criticism for its treatment of workers in its warehouses, including allegations that it has violated labor laws and mistreated workers. The bill would require employers to provide specified information relating to their workforces, including the number of employees in each job category, the number of employees who are employed in each job category, and the number of employees who are employed in each job category and who are paid at or below minimum wage. Amazon has faced criticism for its treatment of workers in its warehouses, including allegations that it has violated labor laws and mistreated workers. The bill would require employers to provide specified information relating to their workforces, including the number of employees in each job category, the number of employees who are employed in each job category, and the number of employees who are employed in each job category and who are paid at or below minimum wage. Amazon has faced criticism for its treatment of workers in its warehouses, including allegations that it has violated labor laws and mistreated workers. The bill would require employers to provide specified information relating to their workforces, including the number of employees in each job category, the number of employees who are employed in each job category, and the number of employees who are employed in each job category and who are paid at or below minimum wage. Amazon has faced criticism for its treatment of workers in its warehouses, including allegations that it has violated labor laws and mistreated workers. The bill would require employers to provide specified information relating to their workforces, including the number of employees in each job category, the number of employees who are employed in each job category, and the number of employees who are employed in each job category and who are paid at or below minimum wage. Amazon has faced criticism for its treatment of workers in its warehouses, including allegations that it has violated labor laws and mistreated workers. The bill would require employers to provide specified information relating to their workforces, including the number of employees in each job category, the number of employees who are employed in each job category, and the number of employees who are employed in each job category and who are paid at or below minimum wage. Amazon has faced criticism for its treatment of workers in its warehouses, including allegations that it has violated labor laws and mistreated workers. The bill would require employers to provide specified information relating to their workforces, including the number of employees in each job category, the number of employees who are employed in each job category, and the number of employees who are employed in each job category and who are paid at or below minimum wage. Amazon has faced criticism for its treatment of workers in its warehouses, including allegations that it has violated labor laws and mistreated workers. The bill would require employers to provide specified information relating to their workforces, including the number of employees in each job category, the number of employees who are employed in each job category, and the number of employees who are employed in each job category and who are paid at or below minimum wage. Amazon has faced criticism for its treatment of workers in its warehouses, including allegations that it has violated labor laws and mistreated workers. The bill would require employers to provide specified information relating to their workforces, including the number of employees in each job category, the number of employees who are employed in each job category, and the number of employees who are employed in each job category and who are paid at or below minimum wage. Amazon has faced criticism for its treatment of workers in its warehouses, including allegations that it has violated labor laws and mistreated workers. The bill would require employers to provide specified information relating to their workforces, including the number of employees in each job category, the number of employees who are employed in each job category, and the number of employees who are employed in each job category and who are paid at or below minimum wage. Amazon has faced criticism for its treatment of workers in its warehouses, including allegations that it has violated labor laws and mistreated workers. The bill would require employers to provide specified information relating to their workforces, including the number of employees in each job category, the number of employees who are employed in each job category, and the number of employees who are employed in each job category and who are paid at or below minimum wage. Amazon has faced criticism for its treatment of workers in its warehouses, including allegations that it has violated labor laws and mistreated workers. The bill would require employers to provide specified information relating to their workforces, including the number of employees in each job category, the number of employees who are employed in each job category, and the number of employees who are employed in each job category and who are paid at or below minimum wage. Amazon has faced criticism for its treatment of workers in its warehouses, including allegations that it has violated labor laws and mistreated workers. The bill would require employers to provide specified information relating to their workforces, including the number of employees in each job category, the number of employees who are employed in each job category, and the number of employees who are employed in each job category and who are paid at or below minimum wage. Amazon has faced criticism for its treatment of workers in its warehouses, including allegations that it has violated labor laws and\n"
     ]
    }
   ],
   "source": [
    "result = pipe(test['query'].iloc[0])\n",
    "print(result[0]['generated_text'])"
   ]
  },
  {
   "cell_type": "code",
   "execution_count": 69,
   "id": "0a798ae2-e824-44a2-8119-ffad334c90ad",
   "metadata": {},
   "outputs": [],
   "source": [
    "from transformers import AutoTokenizer, TextGenerationPipeline\n",
    "import torch\n",
    "\n",
    "def generate_texts(\n",
    "    queries, \n",
    "    pipeline,\n",
    "    tokenizer,\n",
    "    max_length=2000, \n",
    "    num_return_sequences=1) -> list:\n",
    "    \n",
    "    generated_texts = []\n",
    "\n",
    "    for query in queries:\n",
    "        sequences = pipeline(\n",
    "            query,\n",
    "            do_sample=True,\n",
    "            temperature=None,\n",
    "            max_length=max_length,\n",
    "            num_return_sequences=num_return_sequences\n",
    "        )\n",
    "        \n",
    "        # Calculate the number of tokens in the original input string\n",
    "        input_ids = tokenizer.encode(query)\n",
    "        input_length = len(input_ids)\n",
    "\n",
    "        query_results = []\n",
    "\n",
    "        for seq in sequences:\n",
    "            # Get the generated text\n",
    "            full_text = seq['generated_text']\n",
    "            \n",
    "            # Remove the input string from the output string\n",
    "            output_ids = tokenizer.encode(full_text)[input_length:]\n",
    "            output_text = tokenizer.decode(output_ids, skip_special_tokens=True)\n",
    "            \n",
    "            query_results.append(output_text)\n",
    "        \n",
    "        generated_texts.append(query_results)\n",
    "\n",
    "    return generated_texts"
   ]
  },
  {
   "cell_type": "code",
   "execution_count": 70,
   "id": "8bf7120f-92f9-4cca-8583-c88ea01b573c",
   "metadata": {},
   "outputs": [],
   "source": [
    "query_list = test['query'].tolist()"
   ]
  },
  {
   "cell_type": "code",
   "execution_count": 73,
   "id": "d95555e8-7a17-4785-bbc1-25dd7d6bd321",
   "metadata": {},
   "outputs": [
    {
     "name": "stderr",
     "output_type": "stream",
     "text": [
      "/home/ubuntu/.local/lib/python3.8/site-packages/transformers/pipelines/base.py:1083: UserWarning: You seem to be using the pipelines sequentially on GPU. In order to maximize efficiency please use a dataset\n",
      "  warnings.warn(\n",
      "Input length of input_ids is 3197, but `max_length` is set to 2000. This can lead to unexpected behavior. You should consider increasing `max_new_tokens`.\n",
      "Input length of input_ids is 2096, but `max_length` is set to 2000. This can lead to unexpected behavior. You should consider increasing `max_new_tokens`.\n",
      "Input length of input_ids is 2048, but `max_length` is set to 2000. This can lead to unexpected behavior. You should consider increasing `max_new_tokens`.\n",
      "Input length of input_ids is 4135, but `max_length` is set to 2000. This can lead to unexpected behavior. You should consider increasing `max_new_tokens`.\n",
      "Input length of input_ids is 2412, but `max_length` is set to 2000. This can lead to unexpected behavior. You should consider increasing `max_new_tokens`.\n",
      "Input length of input_ids is 4008, but `max_length` is set to 2000. This can lead to unexpected behavior. You should consider increasing `max_new_tokens`.\n"
     ]
    }
   ],
   "source": [
    "results = generate_texts(query_list, pipe, tokenizer)"
   ]
  },
  {
   "cell_type": "code",
   "execution_count": 75,
   "id": "716cf051-b2b3-4dc6-91e3-93bd43eb4b6e",
   "metadata": {},
   "outputs": [
    {
     "data": {
      "text/plain": [
       "100"
      ]
     },
     "execution_count": 75,
     "metadata": {},
     "output_type": "execute_result"
    }
   ],
   "source": [
    "len(results)"
   ]
  },
  {
   "cell_type": "code",
   "execution_count": 86,
   "id": "e60e55c1-51ab-4b3d-9bcf-9f111761f1d7",
   "metadata": {},
   "outputs": [],
   "source": [
    "# the results are a little messier\n",
    "# we need to parse them into yes/no, but sometimes Llama adds a space at the beginning\n",
    "# so let's get the first 5-10 characters, \n",
    "# convert it to lower()\n",
    "# and then check if \"yes\" or \"no\" is in this string\n",
    "# and evaluate\n",
    "\n",
    "filtered_results = []\n",
    "for idx, result in enumerate(results):\n",
    "    # print(idx, result[0][0:20])\n",
    "    result_lower = result[0][0:20].lower()\n",
    "    if 'yes' in result_lower:\n",
    "        filtered_results.append('yes')\n",
    "    else:\n",
    "        filtered_results.append('no')"
   ]
  },
  {
   "cell_type": "code",
   "execution_count": 90,
   "id": "f7a7d385-b762-4a19-b8e8-601fc4ebc3ae",
   "metadata": {},
   "outputs": [],
   "source": [
    "test['llama_response'] = filtered_results\n",
    "test['answer'] = test['answer'].str.lower()"
   ]
  },
  {
   "cell_type": "code",
   "execution_count": 94,
   "id": "c8acb9c2-6a44-41cd-88af-b0903a16eef3",
   "metadata": {},
   "outputs": [
    {
     "data": {
      "text/html": [
       "<div>\n",
       "<style scoped>\n",
       "    .dataframe tbody tr th:only-of-type {\n",
       "        vertical-align: middle;\n",
       "    }\n",
       "\n",
       "    .dataframe tbody tr th {\n",
       "        vertical-align: top;\n",
       "    }\n",
       "\n",
       "    .dataframe thead th {\n",
       "        text-align: right;\n",
       "    }\n",
       "</style>\n",
       "<table border=\"1\" class=\"dataframe\">\n",
       "  <thead>\n",
       "    <tr style=\"text-align: right;\">\n",
       "      <th>Predicted</th>\n",
       "      <th>no</th>\n",
       "      <th>yes</th>\n",
       "    </tr>\n",
       "    <tr>\n",
       "      <th>Actual</th>\n",
       "      <th></th>\n",
       "      <th></th>\n",
       "    </tr>\n",
       "  </thead>\n",
       "  <tbody>\n",
       "    <tr>\n",
       "      <th>no</th>\n",
       "      <td>41</td>\n",
       "      <td>25</td>\n",
       "    </tr>\n",
       "    <tr>\n",
       "      <th>yes</th>\n",
       "      <td>17</td>\n",
       "      <td>17</td>\n",
       "    </tr>\n",
       "  </tbody>\n",
       "</table>\n",
       "</div>"
      ],
      "text/plain": [
       "Predicted  no  yes\n",
       "Actual            \n",
       "no         41   25\n",
       "yes        17   17"
      ]
     },
     "execution_count": 94,
     "metadata": {},
     "output_type": "execute_result"
    }
   ],
   "source": [
    "pd.crosstab(test['answer'], test['llama_response'], rownames=['Actual'], colnames=['Predicted'])"
   ]
  },
  {
   "cell_type": "code",
   "execution_count": 95,
   "id": "046f48f1-8f19-403b-b6b8-b1a1e8171446",
   "metadata": {},
   "outputs": [
    {
     "name": "stdout",
     "output_type": "stream",
     "text": [
      "Llama-2-7B-chat fine-tuned accuracy: 57.99999999999999%\n"
     ]
    }
   ],
   "source": [
    "print(\"Llama-2-7B-chat fine-tuned accuracy: {}%\".format((test['llama_response'] == test['answer']).sum() / len(test) * 100))"
   ]
  },
  {
   "cell_type": "code",
   "execution_count": 97,
   "id": "a5888b95-759a-46f9-a04c-8144cd8dad9c",
   "metadata": {},
   "outputs": [],
   "source": [
    "test[['answer', 'llama_response']].to_csv('llama-7b-finetune.csv', index=False)"
   ]
  },
  {
   "cell_type": "markdown",
   "id": "90f616fe-0a02-43ab-bdba-e6183a6136af",
   "metadata": {},
   "source": [
    "# Save to Hub"
   ]
  },
  {
   "cell_type": "code",
   "execution_count": 98,
   "id": "0f915966-fc9e-434e-b362-b53423ab091d",
   "metadata": {},
   "outputs": [
    {
     "data": {
      "application/vnd.jupyter.widget-view+json": {
       "model_id": "e02cce77f2214a0f8066e7a5a1152948",
       "version_major": 2,
       "version_minor": 0
      },
      "text/plain": [
       "VBox(children=(HTML(value='<center> <img\\nsrc=https://huggingface.co/front/assets/huggingface_logo-noborder.sv…"
      ]
     },
     "metadata": {},
     "output_type": "display_data"
    }
   ],
   "source": [
    "notebook_login()"
   ]
  },
  {
   "cell_type": "code",
   "execution_count": 100,
   "id": "df4be74d-2e8e-447d-b19b-47c2e5e348a0",
   "metadata": {},
   "outputs": [
    {
     "name": "stderr",
     "output_type": "stream",
     "text": [
      "Configuration saved in fine-tuned-llama/config.json\n",
      "Configuration saved in fine-tuned-llama/generation_config.json\n",
      "The model is bigger than the maximum size per checkpoint (10GB) and is going to be split in 2 checkpoint shards. You can find where each parameters has been saved in the index located at fine-tuned-llama/pytorch_model.bin.index.json.\n",
      "Uploading the following files to dlb012/fine-tuned-llama: generation_config.json,pytorch_model-00002-of-00002.bin,config.json,pytorch_model.bin.index.json,pytorch_model-00001-of-00002.bin\n"
     ]
    },
    {
     "data": {
      "application/vnd.jupyter.widget-view+json": {
       "model_id": "c6b93b978aee478ab69187370573f72c",
       "version_major": 2,
       "version_minor": 0
      },
      "text/plain": [
       "pytorch_model-00001-of-00002.bin:   0%|          | 0.00/9.98G [00:00<?, ?B/s]"
      ]
     },
     "metadata": {},
     "output_type": "display_data"
    },
    {
     "data": {
      "application/vnd.jupyter.widget-view+json": {
       "model_id": "ab6d8b0176694505b23b143e052eb2d1",
       "version_major": 2,
       "version_minor": 0
      },
      "text/plain": [
       "pytorch_model-00002-of-00002.bin:   0%|          | 0.00/3.50G [00:00<?, ?B/s]"
      ]
     },
     "metadata": {},
     "output_type": "display_data"
    },
    {
     "data": {
      "application/vnd.jupyter.widget-view+json": {
       "model_id": "d9d3e3745f734b948b8b5e16d105e9dd",
       "version_major": 2,
       "version_minor": 0
      },
      "text/plain": [
       "Upload 2 LFS files:   0%|          | 0/2 [00:00<?, ?it/s]"
      ]
     },
     "metadata": {},
     "output_type": "display_data"
    },
    {
     "name": "stderr",
     "output_type": "stream",
     "text": [
      "tokenizer config file saved in fine-tuned-llama/tokenizer_config.json\n",
      "Special tokens file saved in fine-tuned-llama/special_tokens_map.json\n",
      "Uploading the following files to dlb012/fine-tuned-llama: tokenizer.json,tokenizer_config.json,special_tokens_map.json\n"
     ]
    },
    {
     "data": {
      "text/plain": [
       "CommitInfo(commit_url='https://huggingface.co/dlb012/fine-tuned-llama/commit/60578e8acd884653f0bec68882f89b0b8b7cdc87', commit_message='Upload tokenizer', commit_description='', oid='60578e8acd884653f0bec68882f89b0b8b7cdc87', pr_url=None, pr_revision=None, pr_num=None)"
      ]
     },
     "execution_count": 100,
     "metadata": {},
     "output_type": "execute_result"
    }
   ],
   "source": [
    "model.push_to_hub('relevancy-fine-tuned-llama-70B', use_temp_dir=False)\n",
    "tokenizer.push_to_hub('relevancy-fine-tuned-llama-70B', use_temp_dir=False)"
   ]
  },
  {
   "cell_type": "code",
   "execution_count": null,
   "id": "c72d1249-d50b-4134-b643-c16982e73ac6",
   "metadata": {},
   "outputs": [],
   "source": []
  }
 ],
 "metadata": {
  "kernelspec": {
   "display_name": "Python 3",
   "language": "python",
   "name": "python3"
  },
  "language_info": {
   "codemirror_mode": {
    "name": "ipython",
    "version": 3
   },
   "file_extension": ".py",
   "mimetype": "text/x-python",
   "name": "python",
   "nbconvert_exporter": "python",
   "pygments_lexer": "ipython3",
   "version": "3.8.10"
  }
 },
 "nbformat": 4,
 "nbformat_minor": 5
}
